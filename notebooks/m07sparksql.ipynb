{
 "cells": [
  {
   "cell_type": "code",
   "execution_count": 0,
   "metadata": {
    "application/vnd.databricks.v1+cell": {
     "cellMetadata": {
      "byteLimit": 2048000,
      "rowLimit": 10000
     },
     "inputWidgets": {},
     "nuid": "ee864345-1f7b-4f3c-8c0a-5b007dcf606c",
     "showTitle": false,
     "tableResultSettingsMap": {},
     "title": ""
    }
   },
   "outputs": [],
   "source": [
    "spark.conf.set(\"fs.azure.account.key.datastorageaccountdummy.blob.core.windows.net\", \"s5C7IlqolmY+OrvxvLOrK1UL2ri0LyydTQqGaJQd+jjxfLANWkj153tsiG+cvRpxFakmTQ7NXFQM+AStsLYr+A==\")\n",
    "\n",
    "# dbutils.fs.unmount(\"/mnt/ingestion\")\n",
    "\n",
    "def is_mounted(mount_point):\n",
    "    try:\n",
    "        dbutils.fs.ls(mount_point)\n",
    "        return True\n",
    "    except Exception as e:\n",
    "        if 'java.io.FileNotFoundException' in str(e):\n",
    "            return False\n",
    "        else:\n",
    "            raise Exception(f\"error: {str(e)}\")\n",
    "\n",
    "if not is_mounted(\"/mnt/ingestion\"):\n",
    "    dbutils.fs.mount(\n",
    "        source = \"wasbs://raw-data-ingestion@datastorageaccountdummy.blob.core.windows.net/\",\n",
    "        mount_point = \"/mnt/ingestion\",\n",
    "        extra_configs = {\"fs.azure.account.key.datastorageaccountdummy.blob.core.windows.net\": \"s5C7IlqolmY+OrvxvLOrK1UL2ri0LyydTQqGaJQd+jjxfLANWkj153tsiG+cvRpxFakmTQ7NXFQM+AStsLYr+A==\"}\n",
    "    )\n"
   ]
  },
  {
   "cell_type": "code",
   "execution_count": 0,
   "metadata": {
    "application/vnd.databricks.v1+cell": {
     "cellMetadata": {
      "byteLimit": 2048000,
      "rowLimit": 10000
     },
     "inputWidgets": {},
     "nuid": "3a6e2970-2cef-427a-b309-ca1bff95e419",
     "showTitle": false,
     "tableResultSettingsMap": {},
     "title": ""
    }
   },
   "outputs": [],
   "source": [
    "def create_delta_table_if_not_exists(source_table_path,table,file_format,partition_columns):\n",
    "    try:\n",
    "        spark.sql(\"USE default\") \n",
    "        df = spark.sql(f\"\"\"select * from {table}\"\"\")\n",
    "        print(\"Delta table already exists.\")\n",
    "    except Exception as e:\n",
    "        print(\"Delta table does not exist, creating it.\")\n",
    "        input_df = spark.read.format(file_format).load(source_table_path)\n",
    "        if not partition_columns:\n",
    "            input_df.write.format(\"delta\").mode(\"overwrite\").partitionBy(*partition_columns).saveAsTable(table)\n",
    "        else:\n",
    "            input_df.write.format(\"delta\").mode(\"overwrite\").saveAsTable(table)\n",
    "\n",
    "source_table_path1 = \"/mnt/ingestion/expedia/\"\n",
    "table1 = \"expedia\"\n",
    "file_format1=\"avro\"\n",
    "partition_columns1=[]\n",
    "source_table_path2=\"/mnt/ingestion/hotel-weather/\"\n",
    "table2=\"hotel_weather\"\n",
    "file_format2=\"parquet\"\n",
    "partition_columns2=[\"year\",\"month\",\"day\"]\n",
    "create_delta_table_if_not_exists(source_table_path1,table1,file_format1,partition_columns1)\n",
    "create_delta_table_if_not_exists(source_table_path2,table2,file_format2,partition_columns2)\n"
   ]
  },
  {
   "cell_type": "code",
   "execution_count": 0,
   "metadata": {
    "application/vnd.databricks.v1+cell": {
     "cellMetadata": {
      "byteLimit": 2048000,
      "rowLimit": 10000
     },
     "inputWidgets": {},
     "nuid": "335de130-2bbb-4ac5-a7c3-44b2aa7ec945",
     "showTitle": false,
     "tableResultSettingsMap": {},
     "title": ""
    }
   },
   "outputs": [],
   "source": [
    "df_hotels=spark.sql(\"select * from expedia\")\n",
    "df_hotels.show()"
   ]
  }
 ],
 "metadata": {
  "application/vnd.databricks.v1+notebook": {
   "computePreferences": null,
   "dashboards": [],
   "environmentMetadata": {
    "base_environment": "",
    "environment_version": "2"
   },
   "language": "python",
   "notebookMetadata": {
    "pythonIndentUnit": 4
   },
   "notebookName": "m07sparksql",
   "widgets": {}
  },
  "language_info": {
   "name": "python"
  }
 },
 "nbformat": 4,
 "nbformat_minor": 0
}
