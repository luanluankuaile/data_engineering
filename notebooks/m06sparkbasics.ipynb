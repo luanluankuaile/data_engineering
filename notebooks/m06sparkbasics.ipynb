{
 "cells": [
  {
   "cell_type": "code",
   "execution_count": 0,
   "metadata": {
    "application/vnd.databricks.v1+cell": {
     "cellMetadata": {
      "byteLimit": 2048000,
      "rowLimit": 10000
     },
     "inputWidgets": {},
     "nuid": "f4a47986-0d71-45be-a517-7f903410c607",
     "showTitle": false,
     "tableResultSettingsMap": {},
     "title": ""
    }
   },
   "outputs": [],
   "source": [
    "\n",
    "spark.conf.set(\"fs.azure.account.key.datastorageaccountdummy.blob.core.windows.net\", \"s5C7IlqolmY+OrvxvLOrK1UL2ri0LyydTQqGaJQd+jjxfLANWkj153tsiG+cvRpxFakmTQ7NXFQM+AStsLYr+A==\")\n",
    "\n",
    "# dbutils.fs.unmount(\"/mnt/ingestion\")\n",
    "\n",
    "def is_mounted(mount_point):\n",
    "    try:\n",
    "        dbutils.fs.ls(mount_point)\n",
    "        return True\n",
    "    except Exception as e:\n",
    "        if 'java.io.FileNotFoundException' in str(e):\n",
    "            return False\n",
    "        else:\n",
    "            raise Exception(f\"error: {str(e)}\")\n",
    "\n",
    "if not is_mounted(\"/mnt/ingestion\"):\n",
    "    dbutils.fs.mount(\n",
    "        source = \"wasbs://raw-data-ingestion@datastorageaccountdummy.blob.core.windows.net/\",\n",
    "        mount_point = \"/mnt/ingestion\",\n",
    "        extra_configs = {\"fs.azure.account.key.datastorageaccountdummy.blob.core.windows.net\": \"s5C7IlqolmY+OrvxvLOrK1UL2ri0LyydTQqGaJQd+jjxfLANWkj153tsiG+cvRpxFakmTQ7NXFQM+AStsLYr+A==\"}\n",
    "    )\n",
    "\n"
   ]
  },
  {
   "cell_type": "code",
   "execution_count": 0,
   "metadata": {
    "application/vnd.databricks.v1+cell": {
     "cellMetadata": {
      "byteLimit": 2048000,
      "rowLimit": 10000
     },
     "inputWidgets": {},
     "nuid": "bad497a9-bcd9-4867-a43c-2c818979d238",
     "showTitle": false,
     "tableResultSettingsMap": {},
     "title": ""
    }
   },
   "outputs": [],
   "source": [
    "df_hotels=spark.read.csv(\"/mnt/ingestion/hotels/\",header=True)\n",
    "df_weather=spark.read.parquet(\"/mnt/ingestion/weather/\")\n",
    "display(df_weather)"
   ]
  }
 ],
 "metadata": {
  "application/vnd.databricks.v1+notebook": {
   "computePreferences": null,
   "dashboards": [],
   "environmentMetadata": {
    "base_environment": "",
    "environment_version": "2"
   },
   "language": "python",
   "notebookMetadata": {
    "pythonIndentUnit": 4
   },
   "notebookName": "m06sparkbasics",
   "widgets": {}
  },
  "language_info": {
   "name": "python"
  }
 },
 "nbformat": 4,
 "nbformat_minor": 0
}
